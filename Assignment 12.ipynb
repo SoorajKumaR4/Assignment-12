{
 "cells": [
  {
   "cell_type": "markdown",
   "id": "eddfc7b7",
   "metadata": {},
   "source": [
    "1. In what modes should the PdfFileReader() and PdfFileWriter() File objects will be opened?\n",
    "\n",
    "A. Read-binary ('rb') for PdfFileReader() and write-binary ('wb') for PdfFileWriter()."
   ]
  },
  {
   "cell_type": "markdown",
   "id": "f81a2162",
   "metadata": {},
   "source": [
    "2. From a PdfFileReader object, how do you get a Page object for page 5?\n",
    "\n",
    "A. Calling getPage(4) will return a Page object for About this Book, since page 0 is the first page."
   ]
  },
  {
   "cell_type": "markdown",
   "id": "e817662f",
   "metadata": {},
   "source": [
    "3. What PdfFileReader variable stores the number of pages in the PDF document?\n",
    "\n",
    "A. The numPages variable stores an integer of the number of pages in the PdfFileReader object."
   ]
  },
  {
   "cell_type": "markdown",
   "id": "da6a847c",
   "metadata": {},
   "source": [
    "4. If a PdfFileReader object’s PDF is encrypted with the password swordfish, what must you do\n",
    "before you can obtain Page objects from it?\n",
    "\n",
    "A. Call decrypt('swordfish')"
   ]
  },
  {
   "cell_type": "markdown",
   "id": "14a4c145",
   "metadata": {},
   "source": [
    "5. What methods do you use to rotate a page?\n",
    "\n",
    "A. Ctrl+Shift+L keys to  rotate the current page to the left or Ctrl+Shift+R\" keys to rotate the current page to the right."
   ]
  },
  {
   "cell_type": "markdown",
   "id": "cf11370e",
   "metadata": {},
   "source": [
    "6. What is the difference between a Run object and a Paragraph object?\n",
    "\n",
    "A. A paragraph begins on a new line and contains multiple runs. Runs are contiguous groups of characters within the a paragraph."
   ]
  },
  {
   "cell_type": "markdown",
   "id": "c7753ca9",
   "metadata": {},
   "source": [
    "7. How do you obtain a list of Paragraph objects for a Document object that’s stored in a variable named doc?\n",
    "\n",
    "A. import docx\n",
    "doc = docx.Document('abc.docx')\n",
    "doc.paragraphs"
   ]
  },
  {
   "cell_type": "markdown",
   "id": "3659ce6c",
   "metadata": {},
   "source": [
    "8. What type of object has bold, underline, italic, strike, and outline variables?\n",
    "\n",
    "A. A Run object has bold, underline,italic,strike and outline variables."
   ]
  },
  {
   "cell_type": "markdown",
   "id": "81e297c8",
   "metadata": {},
   "source": [
    "9. What is the difference between False, True, and None for the bold variable?\n",
    "\n",
    "A.\n",
    "1.  True (the attribute is always enabled, no matter what other styles are applied to the run).\n",
    "2. False (the attribute is always disabled).\n",
    "3.  None (defaults to whatever the run’s style is set to)\n",
    "\n"
   ]
  },
  {
   "cell_type": "markdown",
   "id": "d08cde53",
   "metadata": {},
   "source": [
    "10. How do you create a Document object for a new Word document?\n",
    "\n",
    "A. By Calling the docx.Document() function."
   ]
  },
  {
   "cell_type": "markdown",
   "id": "a5b4586a",
   "metadata": {},
   "source": [
    "11. How do you add a paragraph with the text 'Hello, there'to a Document object stored in a\n",
    "variable named doc?\n",
    "\n",
    "A.\n",
    "import docx\n",
    "doc = docx.Document()\n",
    "\n",
    "doc.add_paragraph('Hello there!')\n",
    "doc.save('hellothere.docx')"
   ]
  },
  {
   "cell_type": "markdown",
   "id": "6ea74b18",
   "metadata": {},
   "source": [
    "12. What integers represent the levels of headings available in Word documents?\n",
    "\n",
    "A. integer from 0 to 4"
   ]
  }
 ],
 "metadata": {
  "kernelspec": {
   "display_name": "Python 3 (ipykernel)",
   "language": "python",
   "name": "python3"
  },
  "language_info": {
   "codemirror_mode": {
    "name": "ipython",
    "version": 3
   },
   "file_extension": ".py",
   "mimetype": "text/x-python",
   "name": "python",
   "nbconvert_exporter": "python",
   "pygments_lexer": "ipython3",
   "version": "3.9.7"
  }
 },
 "nbformat": 4,
 "nbformat_minor": 5
}
